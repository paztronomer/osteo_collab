{
 "cells": [
  {
   "cell_type": "markdown",
   "metadata": {},
   "source": [
    "# Mining osteo data"
   ]
  },
  {
   "cell_type": "code",
   "execution_count": 119,
   "metadata": {},
   "outputs": [],
   "source": [
    "import os\n",
    "import numpy as np\n",
    "import pandas as pd\n",
    "import matplotlib.pyplot as plt\n",
    "import seaborn as sns"
   ]
  },
  {
   "cell_type": "markdown",
   "metadata": {},
   "source": [
    "Variables de interes\n",
    "\n",
    "* distribucion por edad \n",
    "* ubicacion (parte del cuerpo) por frecuencia\n",
    "* tiempo que toma la derivacion (inicio sintomatologia)\n",
    "* presencia de metastasis al dg\n",
    "* tratamiento\n"
   ]
  },
  {
   "cell_type": "markdown",
   "metadata": {},
   "source": [
    "* Necesitamos sacar una proyeccion de la tendencia en X yr : cantidad de pacientes anual\n",
    "* Correlaciones:\n",
    "    - CORRELACION / TIEMPO: tiempo que toma la derivacion vs fecha biopsia vs region\n",
    "    - HISTOGRAMA: Biopsia\n",
    "    - HISTOGRAMA: distribucion por sexo y edad\n",
    "    - HISTOGRAMA: region comprometida (parte del cuerpo)\n",
    "    - HISTOGRAMA: metastasis con tiempo de metastasis\n",
    "    - CORRELACION: segmento comprometido vs grado (H vs L) vs edad/sexo\n",
    "    - HISTOGRAMA: tendencia anual\n",
    "    - CORRELACION:  metastasis (1 si, 2 no) vs grado\n",
    "    - HISTOGRAMA: tratamiento\n",
    "    - CORRELACION: tratamiento vs cirugia"
   ]
  },
  {
   "cell_type": "markdown",
   "metadata": {},
   "source": [
    "Load data"
   ]
  },
  {
   "cell_type": "code",
   "execution_count": 44,
   "metadata": {},
   "outputs": [
    {
     "name": "stdout",
     "output_type": "stream",
     "text": [
      "<class 'pandas.core.frame.DataFrame'>\n",
      "RangeIndex: 95 entries, 0 to 94\n",
      "Data columns (total 21 columns):\n",
      " #   Column                                      Non-Null Count  Dtype \n",
      "---  ------                                      --------------  ----- \n",
      " 0   ﻿RUN                                        95 non-null     object\n",
      " 1   Feca de Ingreso al Sistema                  95 non-null     object\n",
      " 2   sexo                                        95 non-null     object\n",
      " 3   edad                                        95 non-null     int64 \n",
      " 4   region                                      95 non-null     object\n",
      " 5   inicio sintomatologia                       93 non-null     object\n",
      " 6   segmento comprometido (clasif AO)           95 non-null     int64 \n",
      " 7   lateralidad                                 95 non-null     object\n",
      " 8   Fecha Biopsia                               95 non-null     object\n",
      " 9   Biopsia                                     95 non-null     object\n",
      " 10  Grado                                       95 non-null     object\n",
      " 11  metastasis (1 si, 2 no)                     95 non-null     int64 \n",
      " 12  Sitio metastsis (1:no, 2: pulmon, 3:otro)   95 non-null     int64 \n",
      " 13  tiempo de metastasis (meses)                95 non-null     object\n",
      " 14  tratamiento (1:qx, 2:cx)                    95 non-null     int64 \n",
      " 15  cirugia (1:amp, 2 prot, 3 desarticulacion)  95 non-null     int64 \n",
      " 16  tipo de protesis                            67 non-null     object\n",
      " 17  recidiva local                              74 non-null     object\n",
      " 18  evolucion                                   69 non-null     object\n",
      " 19  necrosis tumoral                            22 non-null     object\n",
      " 20  sobrevida                                   15 non-null     object\n",
      "dtypes: int64(6), object(15)\n",
      "memory usage: 15.7+ KB\n"
     ]
    }
   ],
   "source": [
    "df = pd.read_csv(\"pcteOS.csv\")\n",
    "df.info()"
   ]
  },
  {
   "cell_type": "code",
   "execution_count": 57,
   "metadata": {},
   "outputs": [
    {
     "data": {
      "text/plain": [
       "<bound method Series.unique of 0     11\n",
       "1     11\n",
       "2     71\n",
       "3     33\n",
       "4     33\n",
       "      ..\n",
       "90    33\n",
       "91    41\n",
       "92    33\n",
       "93    41\n",
       "94    33\n",
       "Name: segmento comprometido (clasif AO), Length: 95, dtype: int64>"
      ]
     },
     "execution_count": 57,
     "metadata": {},
     "output_type": "execute_result"
    }
   ],
   "source": [
    "df[\"segmento comprometido (clasif AO)\"].unique"
   ]
  },
  {
   "cell_type": "markdown",
   "metadata": {},
   "source": [
    "## Histograms"
   ]
  },
  {
   "cell_type": "markdown",
   "metadata": {},
   "source": [
    "### Biopsia"
   ]
  },
  {
   "cell_type": "code",
   "execution_count": 43,
   "metadata": {},
   "outputs": [
    {
     "data": {
      "image/png": "[encoded data removed]",
      "text/plain": [
       "<Figure size 432x432 with 1 Axes>"
      ]
     },
     "metadata": {
      "needs_background": "light"
     },
     "output_type": "display_data"
    }
   ],
   "source": [
    "fig, ax = plt.subplots(1, figsize=(6, 6))\n",
    "ax.hist(df[\"Biopsia\"], color=\"dodgerblue\")\n",
    "# Setup\n",
    "ax.grid()\n",
    "ax.tick_params(labelrotation=45)"
   ]
  },
  {
   "cell_type": "markdown",
   "metadata": {},
   "source": [
    "### Sexo y Edad"
   ]
  },
  {
   "cell_type": "code",
   "execution_count": 50,
   "metadata": {},
   "outputs": [],
   "source": [
    "df_masculino = df.loc[df[\"sexo\"] == \"masculino\"]\n",
    "df_femenino = df.loc[df[\"sexo\"] == \"femenino\"]"
   ]
  },
  {
   "cell_type": "code",
   "execution_count": 56,
   "metadata": {
    "scrolled": false
   },
   "outputs": [
    {
     "data": {
      "text/plain": [
       "Text(0.5, 1.0, 'femenino')"
      ]
     },
     "execution_count": 56,
     "metadata": {},
     "output_type": "execute_result"
    },
    {
     "data": {
      "image/png": "[encoded data removed]",
      "text/plain": [
       "<Figure size 576x360 with 2 Axes>"
      ]
     },
     "metadata": {
      "needs_background": "light"
     },
     "output_type": "display_data"
    }
   ],
   "source": [
    "fig, ax = plt.subplots(1, 2, figsize=(8, 5))\n",
    "\n",
    "# Sexo == Masculino\n",
    "ax[0].hist(df_masculino[\"edad\"], color=\"dodgerblue\")\n",
    "\n",
    "# Sexo == Femenino\n",
    "ax[1].hist(df_femenino[\"edad\"], color=\"forestgreen\")\n",
    "\n",
    "# Setup\n",
    "for axi in ax:\n",
    "    axi.grid()\n",
    "    axi.tick_params(labelrotation=45)\n",
    "    \n",
    "ax[0].set_title(\"masculino\", fontsize=12, color=\"dodgerblue\")\n",
    "ax[1].set_title(\"femenino\", fontsize=12, color=\"forestgreen\")"
   ]
  },
  {
   "cell_type": "markdown",
   "metadata": {},
   "source": [
    "Histograma en sus partes"
   ]
  },
  {
   "cell_type": "code",
   "execution_count": 61,
   "metadata": {},
   "outputs": [],
   "source": [
    "hist, bins = np.histogram(df_masculino[\"edad\"])"
   ]
  },
  {
   "cell_type": "code",
   "execution_count": 62,
   "metadata": {},
   "outputs": [
    {
     "data": {
      "text/plain": [
       "array([27, 11,  4,  3,  2,  3,  3,  2,  1,  2])"
      ]
     },
     "execution_count": 62,
     "metadata": {},
     "output_type": "execute_result"
    }
   ],
   "source": [
    "hist"
   ]
  },
  {
   "cell_type": "code",
   "execution_count": 63,
   "metadata": {},
   "outputs": [
    {
     "data": {
      "text/plain": [
       "array([15. , 21.2, 27.4, 33.6, 39.8, 46. , 52.2, 58.4, 64.6, 70.8, 77. ])"
      ]
     },
     "execution_count": 63,
     "metadata": {},
     "output_type": "execute_result"
    }
   ],
   "source": [
    "bins"
   ]
  },
  {
   "cell_type": "markdown",
   "metadata": {},
   "source": [
    "Estadisticas individuales"
   ]
  },
  {
   "cell_type": "code",
   "execution_count": 65,
   "metadata": {},
   "outputs": [
    {
     "data": {
      "text/plain": [
       "(22.0, 61.04999999999999)"
      ]
     },
     "execution_count": 65,
     "metadata": {},
     "output_type": "execute_result"
    }
   ],
   "source": [
    "np.median(df_masculino[\"edad\"]), np.percentile(df_masculino[\"edad\"], 95)"
   ]
  },
  {
   "cell_type": "markdown",
   "metadata": {},
   "source": [
    "Descripcion rapida"
   ]
  },
  {
   "cell_type": "code",
   "execution_count": 66,
   "metadata": {},
   "outputs": [
    {
     "data": {
      "text/plain": [
       "count    58.000000\n",
       "mean     30.000000\n",
       "std      15.916449\n",
       "min      15.000000\n",
       "25%      19.000000\n",
       "50%      22.000000\n",
       "75%      36.500000\n",
       "max      77.000000\n",
       "Name: edad, dtype: float64"
      ]
     },
     "execution_count": 66,
     "metadata": {},
     "output_type": "execute_result"
    }
   ],
   "source": [
    "df_masculino[\"edad\"].describe()"
   ]
  },
  {
   "cell_type": "code",
   "execution_count": 68,
   "metadata": {},
   "outputs": [
    {
     "data": {
      "text/plain": [
       "count    37.000000\n",
       "mean     35.270270\n",
       "std      19.190056\n",
       "min      16.000000\n",
       "25%      19.000000\n",
       "50%      29.000000\n",
       "75%      45.000000\n",
       "max      81.000000\n",
       "Name: edad, dtype: float64"
      ]
     },
     "execution_count": 68,
     "metadata": {},
     "output_type": "execute_result"
    }
   ],
   "source": [
    "df_femenino[\"edad\"].describe()"
   ]
  },
  {
   "cell_type": "markdown",
   "metadata": {},
   "source": [
    "Relacion de cantidad "
   ]
  },
  {
   "cell_type": "code",
   "execution_count": 72,
   "metadata": {},
   "outputs": [
    {
     "name": "stdout",
     "output_type": "stream",
     "text": [
      "N_masc=58, \n",
      "N_fem=58, \n",
      "Ratio masc/fem=1.0\n"
     ]
    }
   ],
   "source": [
    "print(\"N_masc={0}, \\nN_fem={1}, \\nRatio masc/fem={2}\".format(\n",
    "    df_masculino[\"edad\"].count() , \n",
    "    df_masculino[\"edad\"].count(), \n",
    "    df_masculino[\"edad\"].count() / df_masculino[\"edad\"].count()\n",
    "))"
   ]
  },
  {
   "cell_type": "markdown",
   "metadata": {},
   "source": [
    "### Segmento Comprometido (clasif AO)"
   ]
  },
  {
   "cell_type": "code",
   "execution_count": 80,
   "metadata": {},
   "outputs": [
    {
     "data": {
      "text/plain": [
       "Text(0.5, 1.0, 'Calsificacion AO')"
      ]
     },
     "execution_count": 80,
     "metadata": {},
     "output_type": "execute_result"
    },
    {
     "data": {
      "image/png": "[encoded data removed]",
      "text/plain": [
       "<Figure size 432x432 with 1 Axes>"
      ]
     },
     "metadata": {
      "needs_background": "light"
     },
     "output_type": "display_data"
    }
   ],
   "source": [
    "fig, ax = plt.subplots(1, figsize=(6, 6))\n",
    "\n",
    "ax.hist(df[\"segmento comprometido (clasif AO)\"], color=\"goldenrod\")\n",
    "\n",
    "ax.grid()\n",
    "ax.set_title(\"Clasificacion AO\")"
   ]
  },
  {
   "cell_type": "code",
   "execution_count": 89,
   "metadata": {},
   "outputs": [
    {
     "name": "stdout",
     "output_type": "stream",
     "text": [
      "AO=11 es el 13.7 % del total\n",
      "AO=71 es el 1.1 % del total\n",
      "AO=33 es el 38.9 % del total\n",
      "AO=41 es el 21.1 % del total\n",
      "AO=61 es el 11.6 % del total\n",
      "AO=52 es el 1.1 % del total\n",
      "AO=43 es el 2.1 % del total\n",
      "AO=31 es el 6.3 % del total\n",
      "AO=13 es el 1.1 % del total\n",
      "AO=12 es el 1.1 % del total\n",
      "AO=32 es el 1.1 % del total\n",
      "AO=0 es el 1.1 % del total\n"
     ]
    }
   ],
   "source": [
    "aux_unique = df[\"segmento comprometido (clasif AO)\"].unique()\n",
    "\n",
    "for x in aux_unique:\n",
    "    nx = len(df.loc[df[\"segmento comprometido (clasif AO)\"] == x].index)\n",
    "    pcent = nx * 100. / len(df[\"segmento comprometido (clasif AO)\"].index)\n",
    "    print(\"AO={0} es el {1:.1f} % del total\".format(x, pcent))"
   ]
  },
  {
   "cell_type": "markdown",
   "metadata": {},
   "source": [
    "### Tendencia anual"
   ]
  },
  {
   "cell_type": "code",
   "execution_count": 113,
   "metadata": {},
   "outputs": [],
   "source": [
    "df[\"Feca de Ingreso al Sistema\"] = pd.to_datetime(df[\"Feca de Ingreso al Sistema\"])"
   ]
  },
  {
   "cell_type": "code",
   "execution_count": 116,
   "metadata": {},
   "outputs": [
    {
     "data": {
      "text/plain": [
       "<matplotlib.axes._subplots.AxesSubplot at 0x7fb0912aa110>"
      ]
     },
     "execution_count": 116,
     "metadata": {},
     "output_type": "execute_result"
    },
    {
     "data": {
      "image/png": "[encoded data removed]",
      "text/plain": [
       "<Figure size 432x288 with 1 Axes>"
      ]
     },
     "metadata": {
      "needs_background": "light"
     },
     "output_type": "display_data"
    }
   ],
   "source": [
    "df[\"Feca de Ingreso al Sistema\"].groupby(df[\"Feca de Ingreso al Sistema\"].dt.year).count().plot(kind='bar')"
   ]
  },
  {
   "cell_type": "markdown",
   "metadata": {},
   "source": [
    "Ajuste polinomial entre 2014 y 2018"
   ]
  },
  {
   "cell_type": "code",
   "execution_count": 117,
   "metadata": {},
   "outputs": [
    {
     "data": {
      "text/plain": [
       "Feca de Ingreso al Sistema\n",
       "2014    11\n",
       "2015    28\n",
       "2016    14\n",
       "2017    17\n",
       "2018    22\n",
       "2019     3\n",
       "Name: Feca de Ingreso al Sistema, dtype: int64"
      ]
     },
     "execution_count": 117,
     "metadata": {},
     "output_type": "execute_result"
    }
   ],
   "source": [
    "df[\"Feca de Ingreso al Sistema\"].groupby(df[\"Feca de Ingreso al Sistema\"].dt.year).count()"
   ]
  },
  {
   "cell_type": "code",
   "execution_count": 122,
   "metadata": {},
   "outputs": [],
   "source": [
    "fecha = [2014, 2015, 2016, 2017, 2018]\n",
    "N = [11, 28, 14, 17, 22]\n",
    "df_aux = pd.DataFrame({\"fecha\":fecha, \"n_casos\":N})"
   ]
  },
  {
   "cell_type": "code",
   "execution_count": 136,
   "metadata": {},
   "outputs": [
    {
     "data": {
      "text/plain": [
       "<seaborn.axisgrid.FacetGrid at 0x7fb08eaa6e10>"
      ]
     },
     "execution_count": 136,
     "metadata": {},
     "output_type": "execute_result"
    },
    {
     "data": {
      "image/png": "[encoded data removed]",
      "text/plain": [
       "<Figure size 288x288 with 1 Axes>"
      ]
     },
     "metadata": {
      "needs_background": "light"
     },
     "output_type": "display_data"
    }
   ],
   "source": [
    "sns.lmplot(x=\"fecha\", y=\"n_casos\", data=df_aux,\n",
    "           palette=\"bright\", height=4,\n",
    "           scatter_kws={\"s\": 100, \"alpha\": 1})"
   ]
  },
  {
   "cell_type": "markdown",
   "metadata": {},
   "source": [
    "### Tratamiento"
   ]
  },
  {
   "cell_type": "code",
   "execution_count": 134,
   "metadata": {},
   "outputs": [
    {
     "data": {
      "text/plain": [
       "Text(0.5, 1.0, 'Tratamiento (1:qx, 2:cx, 3:rt)')"
      ]
     },
     "execution_count": 134,
     "metadata": {},
     "output_type": "execute_result"
    },
    {
     "data": {
      "image/png": "[encoded data removed]",
      "text/plain": [
       "<Figure size 432x432 with 1 Axes>"
      ]
     },
     "metadata": {
      "needs_background": "light"
     },
     "output_type": "display_data"
    }
   ],
   "source": [
    "fig, ax = plt.subplots(1, figsize=(6, 6))\n",
    "\n",
    "ax.hist(df[\"tratamiento (1:qx, 2:cx)\"].map(str), color=\"green\")\n",
    "\n",
    "ax.grid()\n",
    "ax.set_title(\"Tratamiento (1:qx, 2:cx, 3:rt)\")"
   ]
  },
  {
   "cell_type": "code",
   "execution_count": 135,
   "metadata": {},
   "outputs": [
    {
     "name": "stdout",
     "output_type": "stream",
     "text": [
      "tratamiento=21 es el 10.5 % del total\n",
      "tratamiento=121 es el 63.2 % del total\n",
      "tratamiento=2 es el 7.4 % del total\n",
      "tratamiento=0 es el 12.6 % del total\n",
      "tratamiento=1 es el 5.3 % del total\n",
      "tratamiento=213 es el 1.1 % del total\n"
     ]
    }
   ],
   "source": [
    "aux_unique2 = df[\"tratamiento (1:qx, 2:cx)\"].unique()\n",
    "\n",
    "for x in aux_unique2:\n",
    "    nx = len(df.loc[df[\"tratamiento (1:qx, 2:cx)\"] == x].index)\n",
    "    pcent = nx * 100. / len(df[\"tratamiento (1:qx, 2:cx)\"].index)\n",
    "    print(\"tratamiento={0} es el {1:.1f} % del total\".format(x, pcent))"
   ]
  },
  {
   "cell_type": "markdown",
   "metadata": {},
   "source": [
    "## Estadistica simple"
   ]
  },
  {
   "cell_type": "markdown",
   "metadata": {},
   "source": [
    "### Tiempo de metastasis (meses)"
   ]
  },
  {
   "cell_type": "code",
   "execution_count": 103,
   "metadata": {},
   "outputs": [],
   "source": [
    "aux_tiempoMet = df.loc[df[\"tiempo de metastasis (meses)\"] != \"no\", \"tiempo de metastasis (meses)\"].map(int).values"
   ]
  },
  {
   "cell_type": "code",
   "execution_count": 104,
   "metadata": {},
   "outputs": [
    {
     "data": {
      "text/plain": [
       "array([ 0,  0,  0,  0,  0,  0,  1,  1,  3, 12, 24,  0,  0, 10,  6,  0,  0,\n",
       "       24, 10,  6,  0,  0,  0,  0,  9,  0,  0,  0,  4,  0,  0,  0,  0,  0,\n",
       "        0,  0,  0,  3,  0,  4,  0,  0])"
      ]
     },
     "execution_count": 104,
     "metadata": {},
     "output_type": "execute_result"
    }
   ],
   "source": [
    "aux_tiempoMet"
   ]
  },
  {
   "cell_type": "code",
   "execution_count": 106,
   "metadata": {},
   "outputs": [
    {
     "name": "stdout",
     "output_type": "stream",
     "text": [
      "Tiempo de metastasis: 3e+00 meses\n"
     ]
    }
   ],
   "source": [
    "print(\"Tiempo de metastasis: {0:.1} meses\".format(aux_tiempoMet.mean()))"
   ]
  },
  {
   "cell_type": "markdown",
   "metadata": {},
   "source": [
    "## Correlaciones"
   ]
  },
  {
   "cell_type": "markdown",
   "metadata": {},
   "source": [
    "### Tratamiento vs Cirugia"
   ]
  },
  {
   "cell_type": "code",
   "execution_count": 142,
   "metadata": {},
   "outputs": [
    {
     "data": {
      "text/plain": [
       "<seaborn.axisgrid.FacetGrid at 0x7fb08d0651d0>"
      ]
     },
     "execution_count": 142,
     "metadata": {},
     "output_type": "execute_result"
    },
    {
     "data": {
      "image/png": "[encoded data removed]",
      "text/plain": [
       "<Figure size 360x360 with 1 Axes>"
      ]
     },
     "metadata": {
      "needs_background": "light"
     },
     "output_type": "display_data"
    }
   ],
   "source": [
    "sns.relplot(x=\"tratamiento (1:qx, 2:cx)\", \n",
    "            y=\"cirugia (1:amp, 2 prot, 3 desarticulacion)\", \n",
    "            data=df,)"
   ]
  },
  {
   "cell_type": "markdown",
   "metadata": {},
   "source": [
    "### Inicio de sintomas vs Grado"
   ]
  },
  {
   "cell_type": "code",
   "execution_count": 156,
   "metadata": {},
   "outputs": [],
   "source": [
    "inis = df_aux3[\"inicio sintomatologia\"].values\n",
    "tmp_inicio = []\n",
    "for i in inis:\n",
    "    if isinstance(i, str):\n",
    "        i = i.replace(\" \", \"\")\n",
    "        i = i.replace(\"m\", \"\")\n",
    "        i = i.replace(\"M\", \"\")\n",
    "    tmp_inicio.append(i)"
   ]
  },
  {
   "cell_type": "code",
   "execution_count": 164,
   "metadata": {},
   "outputs": [],
   "source": [
    "df_aux3 = df.copy()\n",
    "df_aux3[\"inicio sintomatologia\"] = tmp_inicio\n",
    "df_aux3[\"inicio sintomatologia\"] = df_aux3[\"inicio sintomatologia\"].map(float)\n",
    "df_aux3[\"metastasis (1 si, 2 no)\"] = df_aux3[\"metastasis (1 si, 2 no)\"].map(str)\n",
    "# df_aux3.head()"
   ]
  },
  {
   "cell_type": "code",
   "execution_count": 165,
   "metadata": {},
   "outputs": [
    {
     "data": {
      "text/plain": [
       "<seaborn.axisgrid.FacetGrid at 0x7fb08d1818d0>"
      ]
     },
     "execution_count": 165,
     "metadata": {},
     "output_type": "execute_result"
    },
    {
     "data": {
      "image/png": "[encoded data removed]",
      "text/plain": [
       "<Figure size 360x360 with 1 Axes>"
      ]
     },
     "metadata": {
      "needs_background": "light"
     },
     "output_type": "display_data"
    }
   ],
   "source": [
    "sns.relplot(x=\"metastasis (1 si, 2 no)\", \n",
    "            y=\"inicio sintomatologia\", \n",
    "            data=df_aux3,)"
   ]
  },
  {
   "cell_type": "code",
   "execution_count": 166,
   "metadata": {},
   "outputs": [
    {
     "data": {
      "text/plain": [
       "<matplotlib.axes._subplots.AxesSubplot at 0x7fb08ed22110>"
      ]
     },
     "execution_count": 166,
     "metadata": {},
     "output_type": "execute_result"
    },
    {
     "data": {
      "image/png": "[encoded data removed]",
      "text/plain": [
       "<Figure size 432x288 with 1 Axes>"
      ]
     },
     "metadata": {
      "needs_background": "light"
     },
     "output_type": "display_data"
    }
   ],
   "source": [
    "df_aux3[\"metastasis (1 si, 2 no)\"].hist()"
   ]
  },
  {
   "cell_type": "code",
   "execution_count": 171,
   "metadata": {},
   "outputs": [
    {
     "data": {
      "text/plain": [
       "(array([42,  0,  0,  0,  0,  0,  0,  0,  0, 53]),\n",
       " array([1. , 1.1, 1.2, 1.3, 1.4, 1.5, 1.6, 1.7, 1.8, 1.9, 2. ]))"
      ]
     },
     "execution_count": 171,
     "metadata": {},
     "output_type": "execute_result"
    }
   ],
   "source": [
    "np.histogram(df_aux3[\"metastasis (1 si, 2 no)\"].map(int).values)"
   ]
  },
  {
   "cell_type": "code",
   "execution_count": 172,
   "metadata": {},
   "outputs": [
    {
     "name": "stdout",
     "output_type": "stream",
     "text": [
      "42=SI, 53=NO\n"
     ]
    }
   ],
   "source": [
    "print(\"42=SI, 53=NO\")"
   ]
  },
  {
   "cell_type": "code",
   "execution_count": null,
   "metadata": {},
   "outputs": [],
   "source": []
  }
 ],
 "metadata": {
  "kernelspec": {
   "display_name": "Python 3",
   "language": "python",
   "name": "python3"
  },
  "language_info": {
   "codemirror_mode": {
    "name": "ipython",
    "version": 3
   },
   "file_extension": ".py",
   "mimetype": "text/x-python",
   "name": "python",
   "nbconvert_exporter": "python",
   "pygments_lexer": "ipython3",
   "version": "3.7.6"
  }
 },
 "nbformat": 4,
 "nbformat_minor": 4
}
